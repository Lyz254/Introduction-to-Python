{
 "cells": [
  {
   "cell_type": "code",
   "execution_count": 2,
   "id": "8f0c39dd-6c98-496a-ad9c-2b53508a88c3",
   "metadata": {},
   "outputs": [
    {
     "name": "stdout",
     "output_type": "stream",
     "text": [
      "{'name': 'Alice', 'age': 14, 'grade': 'B'}\n"
     ]
    }
   ],
   "source": [
    "# 1. Create a dictionary called student with:\n",
    "# Keys: \"name\", \"age\", \"grade\"\n",
    "# Values: \"Alice\", 14, \"B\"\n",
    "student = {\n",
    "    \"name\": \"Alice\",\n",
    "    \"age\": 14,\n",
    "    \"grade\": \"B\"\n",
    "}\n",
    "print(student)"
   ]
  },
  {
   "cell_type": "code",
   "execution_count": 3,
   "id": "076dcb96-572c-4f13-bdda-6776830e5122",
   "metadata": {},
   "outputs": [
    {
     "name": "stdout",
     "output_type": "stream",
     "text": [
      "Alice\n"
     ]
    }
   ],
   "source": [
    "# 1.1. Access and print the student's name from the dictionary.\n",
    "print(student[\"name\"])"
   ]
  },
  {
   "cell_type": "code",
   "execution_count": 4,
   "id": "3b767b4e-1f63-493b-a8d9-2f5774f49d15",
   "metadata": {},
   "outputs": [
    {
     "name": "stdout",
     "output_type": "stream",
     "text": [
      "A\n"
     ]
    }
   ],
   "source": [
    "# 1.2. Change the student's grade to \"A\".\n",
    "student[\"grade\"]=\"A\"\n",
    "print(student[\"grade\"])"
   ]
  },
  {
   "cell_type": "code",
   "execution_count": 5,
   "id": "7dc0a571-032e-414a-babb-742849faadb8",
   "metadata": {},
   "outputs": [
    {
     "name": "stdout",
     "output_type": "stream",
     "text": [
      "{'name': 'Alice', 'age': 14, 'grade': 'A', 'school': 'Greenwood High'}\n"
     ]
    }
   ],
   "source": [
    "# 1.3. Add a new key called \"school\" with the value \"Greenwood High\".\n",
    "student[\"school\"]=\"Greenwood High\"\n",
    "print(student)"
   ]
  },
  {
   "cell_type": "code",
   "execution_count": 6,
   "id": "ff9589a6-0320-4891-b9fa-2405d66b20d1",
   "metadata": {},
   "outputs": [
    {
     "name": "stdout",
     "output_type": "stream",
     "text": [
      "{'name': 'Alice', 'grade': 'A', 'school': 'Greenwood High'}\n"
     ]
    }
   ],
   "source": [
    "# 1.4. Delete the \"age\" key from the dictionary.\n",
    "del student[\"age\"]\n",
    "print(student)"
   ]
  },
  {
   "cell_type": "code",
   "execution_count": 7,
   "id": "77d659da-4363-4917-8f9e-194035c5cfac",
   "metadata": {},
   "outputs": [
    {
     "name": "stdout",
     "output_type": "stream",
     "text": [
      "('name', 'Bob')\n",
      "('age', 30)\n",
      "('city', 'Nairobi')\n"
     ]
    }
   ],
   "source": [
    "# 2. Loop through the following dictionary and print each key and value:\n",
    "person = {\"name\": \"Bob\", \"age\": 30, \"city\": \"Nairobi\"}\n",
    "for item in person.items():\n",
    "    print(item)"
   ]
  },
  {
   "cell_type": "code",
   "execution_count": 8,
   "id": "b2e48674-a4b4-449d-90d8-1c370ac9d35a",
   "metadata": {},
   "outputs": [
    {
     "name": "stdout",
     "output_type": "stream",
     "text": [
      "name\n",
      "age\n",
      "city\n"
     ]
    }
   ],
   "source": [
    "# 2.1. Loop through and print only the keys from the dictionary above.\n",
    "for key in person.keys():\n",
    "    print(key)"
   ]
  },
  {
   "cell_type": "code",
   "execution_count": 9,
   "id": "31ff89f7-245c-4861-b633-f849e4e3a036",
   "metadata": {},
   "outputs": [
    {
     "name": "stdout",
     "output_type": "stream",
     "text": [
      "Bob\n",
      "30\n",
      "Nairobi\n"
     ]
    }
   ],
   "source": [
    "# 2.2. Loop through and print only the values.\n",
    "for value in person.values():\n",
    "    print(value)"
   ]
  },
  {
   "cell_type": "code",
   "execution_count": 10,
   "id": "035802a7-2259-4066-a680-aaabe2dc6760",
   "metadata": {},
   "outputs": [
    {
     "name": "stdout",
     "output_type": "stream",
     "text": [
      "Not provided\n"
     ]
    }
   ],
   "source": [
    "# 2.3. Use .get() to retrieve the value of a key called \"email\" from person. If it doesn’t exist, return \"Not provided\".\n",
    "email = person.get(\"email\", \"Not provided\")\n",
    "print(email)"
   ]
  },
  {
   "cell_type": "code",
   "execution_count": 11,
   "id": "2d3f336d-db5a-432a-815c-148b6c993129",
   "metadata": {},
   "outputs": [
    {
     "name": "stdout",
     "output_type": "stream",
     "text": [
      "not found\n",
      "not found\n",
      "found\n"
     ]
    }
   ],
   "source": [
    "# 2.4. Check if the key \"city\" exists in the dictionary.\n",
    "for key in person.keys():\n",
    "    if \"city\" in key:\n",
    "        print(\"found\")\n",
    "    else:\n",
    "        print(\"not found\")\n"
   ]
  },
  {
   "cell_type": "code",
   "execution_count": 12,
   "id": "83db2716-90a4-4e8c-8675-fd48d713b1c5",
   "metadata": {},
   "outputs": [
    {
     "name": "stdout",
     "output_type": "stream",
     "text": [
      "{'name': 'Bob', 'age': 30, 'city': 'Nairobi', 'email': 'bob@example.com'}\n"
     ]
    }
   ],
   "source": [
    "# 2.5. Use .update() to add or modify multiple values:\n",
    "# Update \"city\" to \"Mombasa\" and add \"email\": \"bob@example.com\"\n",
    "person.update({\"email\": \"bob@example.com\"})\n",
    "print(person)"
   ]
  },
  {
   "cell_type": "code",
   "execution_count": 14,
   "id": "07639fcc-be52-48ed-a015-47a0963d17cf",
   "metadata": {},
   "outputs": [
    {
     "name": "stdin",
     "output_type": "stream",
     "text": [
      "Enter the name of student:1  Mary\n",
      "Enter the age of student:1  54\n",
      "Enter the grade of student:1  87\n",
      "Enter the name of student:2  George\n",
      "Enter the age of student:2  32\n",
      "Enter the grade of student:2  66\n",
      "Enter the name of student:3  Remmy\n",
      "Enter the age of student:3  23\n",
      "Enter the grade of student:3  56\n"
     ]
    }
   ],
   "source": [
    "# 3. Create a list of 3 students, each represented as a dictionary:\n",
    "# Each dictionary should have keys: \"name\", \"age\", \"grade\"\n",
    "students={}\n",
    "for i in range(1,4):\n",
    "    student = {}\n",
    "    student[\"name\"] = input(f\"Enter the name of student:{i} \")\n",
    "    student[\"age\"] = int(input(f\"Enter the age of student:{i} \"))\n",
    "    student[\"grade\"] = int(input(f\"Enter the grade of student:{i} \"))\n",
    "    students[f\"student{i}\"] = student\n"
   ]
  },
  {
   "cell_type": "code",
   "execution_count": 15,
   "id": "ee4d22b2-e540-48cf-a547-0dc526c60f79",
   "metadata": {},
   "outputs": [
    {
     "name": "stdout",
     "output_type": "stream",
     "text": [
      "\n",
      "Student Details:\n",
      "student1: {'name': 'Mary', 'age': 54, 'grade': 87}\n",
      "student2: {'name': 'George', 'age': 32, 'grade': 66}\n",
      "student3: {'name': 'Remmy', 'age': 23, 'grade': 56}\n"
     ]
    }
   ],
   "source": [
    "# 3.1. Loop through the list and print the name and grade of each student.\n",
    "print(\"\\nStudent Details:\")\n",
    "for key in students:\n",
    "    print(f\"{key}: {students[key]}\")"
   ]
  },
  {
   "cell_type": "code",
   "execution_count": 16,
   "id": "011c715e-b1ad-4b8f-b1c7-3aa4f51cffb6",
   "metadata": {},
   "outputs": [
    {
     "name": "stdout",
     "output_type": "stream",
     "text": [
      "69.67\n"
     ]
    }
   ],
   "source": [
    "# 3.2. Write a loop to calculate the average grade (assuming grades are numbers).\n",
    "Total_marks=0\n",
    "for student in students.values():\n",
    "    Total_marks+=student[\"grade\"]\n",
    "    Average=round(Total_marks/len(students),2)\n",
    "print(Average)\n",
    "    "
   ]
  },
  {
   "cell_type": "code",
   "execution_count": 17,
   "id": "ad3c783b-56f9-4a38-810e-9ff939954eea",
   "metadata": {},
   "outputs": [
    {
     "name": "stdout",
     "output_type": "stream",
     "text": [
      "{'apple': 3, 'banana': 2, 'cherry': 1}\n"
     ]
    }
   ],
   "source": [
    "# 4. Create a dictionary to count how many times each word appears in this list:\n",
    "# Output should be:\n",
    "# {\"apple\": 3, \"banana\": 2, \"cherry\": 1}\n",
    "words = [\"apple\", \"banana\", \"apple\", \"cherry\", \"banana\", \"apple\"]\n",
    "count_words={}\n",
    "for word in words:\n",
    "    if word in count_words:\n",
    "        count_words[word] += 1\n",
    "    else:\n",
    "        count_words[word] = 1\n",
    "\n",
    "print(count_words)"
   ]
  },
  {
   "cell_type": "code",
   "execution_count": null,
   "id": "b5a3da38-7a34-4992-bde6-87e227437a63",
   "metadata": {},
   "outputs": [
    {
     "name": "stdin",
     "output_type": "stream",
     "text": [
      "\n",
      "Choose an option (add/search/exit):  add\n",
      "Enter your name:  Heri\n",
      "Enter your phone number (without +254):  071230495\n"
     ]
    },
    {
     "name": "stdout",
     "output_type": "stream",
     "text": [
      "Contact added.\n"
     ]
    },
    {
     "name": "stdin",
     "output_type": "stream",
     "text": [
      "\n",
      "Choose an option (add/search/exit):  add\n",
      "Enter your name:  Rael\n",
      "Enter your phone number (without +254):  0712323232\n"
     ]
    },
    {
     "name": "stdout",
     "output_type": "stream",
     "text": [
      "Contact added.\n"
     ]
    },
    {
     "name": "stdin",
     "output_type": "stream",
     "text": [
      "\n",
      "Choose an option (add/search/exit):  search\n",
      "Enter the name you are looking for:  Rael\n"
     ]
    },
    {
     "name": "stdout",
     "output_type": "stream",
     "text": [
      "Found: +2540712323232\n"
     ]
    }
   ],
   "source": [
    "phonebook = {}  # Global dictionary to store contacts\n",
    "\n",
    "def add_contact():\n",
    "    name = input(\"Enter your name: \")\n",
    "    phone_number = \"+254\" + input(\"Enter your phone number (without +254): \")\n",
    "    phonebook[name] = phone_number\n",
    "    print(\"Contact added.\")\n",
    "\n",
    "def search_contact():\n",
    "    search_name = input(\"Enter the name you are looking for: \")\n",
    "    if search_name in phonebook:\n",
    "        print(\"Found:\", phonebook[search_name])\n",
    "    else:\n",
    "        print(search_name, \"not found in phonebook.\")\n",
    "\n",
    "def main():\n",
    "    while True:\n",
    "        option = input(\"\\nChoose an option (add/search/exit): \").strip().lower()\n",
    "        if option == \"add\":\n",
    "            add_contact()\n",
    "        elif option == \"search\":\n",
    "            search_contact()\n",
    "        elif option == \"exit\":\n",
    "            print(\"Goodbye!\")\n",
    "            break\n",
    "        else:\n",
    "            print(\"Invalid option. Please choose add, search, or exit.\")\n",
    "\n",
    "main()\n"
   ]
  },
  {
   "cell_type": "code",
   "execution_count": null,
   "id": "8740d4a0-d861-4f66-9a7b-309f25c1c274",
   "metadata": {},
   "outputs": [],
   "source": []
  },
  {
   "cell_type": "code",
   "execution_count": null,
   "id": "3becd8bc-5459-464e-956c-1895035edaff",
   "metadata": {},
   "outputs": [],
   "source": []
  }
 ],
 "metadata": {
  "kernelspec": {
   "display_name": "Python [conda env:base] *",
   "language": "python",
   "name": "conda-base-py"
  },
  "language_info": {
   "codemirror_mode": {
    "name": "ipython",
    "version": 3
   },
   "file_extension": ".py",
   "mimetype": "text/x-python",
   "name": "python",
   "nbconvert_exporter": "python",
   "pygments_lexer": "ipython3",
   "version": "3.10.9"
  }
 },
 "nbformat": 4,
 "nbformat_minor": 5
}
