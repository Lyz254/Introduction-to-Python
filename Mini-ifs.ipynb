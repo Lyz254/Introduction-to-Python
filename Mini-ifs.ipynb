{
 "cells": [
  {
   "cell_type": "markdown",
   "id": "633aa2ce-62cd-4b3b-b177-05c119fac55e",
   "metadata": {},
   "source": [
    "### practice on how to use if, elif, else / and, or, not"
   ]
  },
  {
   "cell_type": "code",
   "execution_count": 2,
   "id": "045cd2ca-73fa-479c-8d9f-2de0ad171d2c",
   "metadata": {},
   "outputs": [
    {
     "name": "stdin",
     "output_type": "stream",
     "text": [
      "Enter a numbber 10\n"
     ]
    },
    {
     "name": "stdout",
     "output_type": "stream",
     "text": [
      "Positive number\n"
     ]
    }
   ],
   "source": [
    "# 1. Write a program that checks if a number is positive.\n",
    "# Input: 5\n",
    "# Output: Positive number\n",
    "number=int(input(\"Enter a numbber\"))\n",
    "if number >5:\n",
    "    print(\"Positive number\")"
   ]
  },
  {
   "cell_type": "code",
   "execution_count": 10,
   "id": "c3426473-e823-4c69-9896-6a3307edb695",
   "metadata": {},
   "outputs": [
    {
     "name": "stdin",
     "output_type": "stream",
     "text": [
      "Enter a number 7\n"
     ]
    },
    {
     "name": "stdout",
     "output_type": "stream",
     "text": [
      "Odd\n"
     ]
    }
   ],
   "source": [
    "# 2. Check if a given number is even or odd.\n",
    "# Input: 7\n",
    "# Output: Odd number\n",
    "number=int(input(\"Enter a number\"))\n",
    "if number % 2 == 0:\n",
    "    print(\"Even\")\n",
    "else:\n",
    "    print(\"Odd\")\n",
    "        "
   ]
  },
  {
   "cell_type": "code",
   "execution_count": 7,
   "id": "79b20101-7cf8-43d5-a85f-4ecd04cefc1a",
   "metadata": {},
   "outputs": [
    {
     "name": "stdin",
     "output_type": "stream",
     "text": [
      "Enter your age 90\n"
     ]
    },
    {
     "name": "stdout",
     "output_type": "stream",
     "text": [
      "You are an adult.\n"
     ]
    }
   ],
   "source": [
    "# 3. Ask the user for their age. If they are 18 or older, print \"You are an adult.\"\n",
    "age=int(input(\"Enter your age\"))\n",
    "if age>= 18:\n",
    "    print(\"You are an adult.\")"
   ]
  },
  {
   "cell_type": "code",
   "execution_count": 9,
   "id": "3f11821a-57e9-4615-97c9-4724bd31801e",
   "metadata": {},
   "outputs": [
    {
     "name": "stdin",
     "output_type": "stream",
     "text": [
      "Enter password secret\n"
     ]
    },
    {
     "name": "stdout",
     "output_type": "stream",
     "text": [
      "Access granted\n"
     ]
    }
   ],
   "source": [
    "# 4. Ask the user to enter a password. If it matches \"secret\", print \"Access granted\"; otherwise, print \"Wrong password\".\n",
    "password=input(\"Enter password\")\n",
    "if password ==\"secret\":\n",
    "    print(\"Access granted\")\n",
    "else:\n",
    "    print(\"Wrong Password\")"
   ]
  },
  {
   "cell_type": "code",
   "execution_count": 11,
   "id": "fa2f9839-006f-45e8-b259-a5a7421a5aeb",
   "metadata": {},
   "outputs": [
    {
     "name": "stdin",
     "output_type": "stream",
     "text": [
      "Enter a numbber 6\n"
     ]
    },
    {
     "name": "stdout",
     "output_type": "stream",
     "text": [
      "Even\n"
     ]
    }
   ],
   "source": [
    "# 5. Ask the user for a number and print whether it is even or odd.\n",
    "number=int(input(\"Enter a numbber\"))\n",
    "if number % 2 !=0:\n",
    "    print(\"Odd\")\n",
    "else:\n",
    "    print(\"Even\")"
   ]
  },
  {
   "cell_type": "code",
   "execution_count": 14,
   "id": "6a8b081a-bbda-437b-8e0c-c58dce7d01d1",
   "metadata": {},
   "outputs": [
    {
     "name": "stdin",
     "output_type": "stream",
     "text": [
      "Enter a number 10\n"
     ]
    },
    {
     "name": "stdout",
     "output_type": "stream",
     "text": [
      "Miss\n"
     ]
    }
   ],
   "source": [
    "# 6. Check whether a number is divisible by 3 given by a user. If it is, print \"Hit\"; otherwise, print \"Miss\".\n",
    "number=int(input(\"Enter a number\"))\n",
    "if number % 3 == 0:\n",
    "    print(\"Hit\")\n",
    "else:\n",
    "    print(\"Miss\")\n",
    "    "
   ]
  },
  {
   "cell_type": "code",
   "execution_count": 18,
   "id": "53650feb-792d-49ce-97d7-db602397df81",
   "metadata": {},
   "outputs": [
    {
     "name": "stdin",
     "output_type": "stream",
     "text": [
      "Enter a numbber -1\n"
     ]
    },
    {
     "name": "stdout",
     "output_type": "stream",
     "text": [
      "Negative\n"
     ]
    }
   ],
   "source": [
    "# 7. Ask the user for a number and print whether it is positive, negative, or zero.\n",
    "number=int(input(\"Enter a numbber\"))\n",
    "if number == 0:\n",
    "    print(\"Zero\")\n",
    "elif number > 0:\n",
    "    print(\"Positive\")\n",
    "else:\n",
    "    print(\"Negative\")"
   ]
  },
  {
   "cell_type": "code",
   "execution_count": 22,
   "id": "896e8d7e-1c5c-4501-a297-56a66cf0f56b",
   "metadata": {},
   "outputs": [
    {
     "name": "stdin",
     "output_type": "stream",
     "text": [
      "Enter grade:  100\n"
     ]
    },
    {
     "name": "stdout",
     "output_type": "stream",
     "text": [
      "A\n"
     ]
    }
   ],
   "source": [
    "# 8. Ask for a grade (0–100) and print:\n",
    "# \"A\" if 80 and above\n",
    "# \"B\" if 60–79\n",
    "# \"C\" if 40–59\n",
    "# \"F\" if below 40\n",
    "grade=int(input(\"Enter grade: \"))\n",
    "if grade >=80 and grade<=100:\n",
    "    print(\"A\")\n",
    "elif grade >=60:\n",
    "    print(\"B\")\n",
    "elif grade >=40:\n",
    "    print(\"C\")\n",
    "elif grade >0:\n",
    "    print(\"F\")\n",
    "          "
   ]
  },
  {
   "cell_type": "code",
   "execution_count": 31,
   "id": "b5caba9f-2a47-4661-a2a1-dc43eb26f302",
   "metadata": {},
   "outputs": [
    {
     "name": "stdin",
     "output_type": "stream",
     "text": [
      "Enter a number1 12\n",
      "Enter a number2 0\n",
      "Enter operator /\n"
     ]
    },
    {
     "name": "stdout",
     "output_type": "stream",
     "text": [
      "Something went wrong\n"
     ]
    }
   ],
   "source": [
    "# 9. Create a simple calculator:\n",
    "# Ask for two numbers and an operator (+, -, *, /)\n",
    "# Use if statements to compute the result\n",
    "number1=int(input(\"Enter a number1\"))\n",
    "number2=int(input(\"Enter a number2\"))\n",
    "operator=input(\"Enter operator\")\n",
    "try:\n",
    "    if operator == \"*\":\n",
    "        Multiplication = number1 * number2\n",
    "        print(\"Multiplication results: \", Multiplication)\n",
    "    elif operator == \"/\":\n",
    "        Division = number1 / number2\n",
    "        print(\"Division results: \",Division)\n",
    "    elif operator == \"+\":\n",
    "        Addition = number1 + number2\n",
    "        print(\"Addition results: \", Addition)\n",
    "    elif operator == \"-\" :\n",
    "        Subtraction = number1 - number2\n",
    "        print(\"Subtraction results: \", Subtraction)\n",
    "    else:\n",
    "        print(\"Invalid operation\")\n",
    "except:\n",
    "    print(\"Something went wrong\")"
   ]
  },
  {
   "cell_type": "code",
   "execution_count": 34,
   "id": "fe1a788d-3294-41a5-aa4e-fe327f67fb52",
   "metadata": {},
   "outputs": [
    {
     "name": "stdin",
     "output_type": "stream",
     "text": [
      "Enter your age 17\n"
     ]
    },
    {
     "name": "stdout",
     "output_type": "stream",
     "text": [
      "Teenager\n"
     ]
    }
   ],
   "source": [
    "# 10. Ask the user for their age. If they are between 13 and 19 (inclusive), print \"Teenager\".\n",
    "age=int(input(\"Enter your age\"))\n",
    "if age>=13 and age <=19:\n",
    "    print(\"Teenager\")"
   ]
  },
  {
   "cell_type": "code",
   "execution_count": 37,
   "id": "1ea00dbf-1b31-4a33-a673-37e64c00bec3",
   "metadata": {},
   "outputs": [
    {
     "name": "stdin",
     "output_type": "stream",
     "text": [
      "Enter your year 2022\n"
     ]
    },
    {
     "name": "stdout",
     "output_type": "stream",
     "text": [
      "2022  is not a leap year\n"
     ]
    }
   ],
   "source": [
    "# 11. Check if a year is a leap year:\n",
    "# leap years are those that are divisible by 4 e.g. 2020\n",
    "# leap years are not divisible by 100 except for those that are also divisible by 400\n",
    "year=int(input(\"Enter your year\"))\n",
    "if year % 4 == 0 and year % 100!=0 or year % 200 ==0:\n",
    "    print(year,\" is a leap year\")\n",
    "else:\n",
    "    print(year,\" is not a leap year\")"
   ]
  },
  {
   "cell_type": "code",
   "execution_count": null,
   "id": "1205bda1-fb79-490b-87f2-bfb7ad31cf5f",
   "metadata": {},
   "outputs": [],
   "source": [
    "# 12. Ask for a password and username. Allow login only if both match the correct values.\n",
    "stored_name=\"mary\"\n",
    "saved_password=\"Ppp@333\"\n",
    "name=(input(\"Enter your name\"))\n",
    "password=(input(\"Enter your password\"))\n",
    "if name==stored_name and password == saved_password:\n",
    "    print(\"Login successful\")\n",
    "else: \n",
    "    print(\"Try again\")"
   ]
  },
  {
   "cell_type": "code",
   "execution_count": null,
   "id": "77448659-a1f2-4583-a95e-4aea999fd1f7",
   "metadata": {},
   "outputs": [],
   "source": [
    "stored_name = \"mary\"\n",
    "saved_password = \"Ppp@333\"\n",
    "\n",
    "attempts = 0\n",
    "max_attempts = 3\n",
    "\n",
    "while attempts < max_attempts:\n",
    "    name = input(\"Enter your name: \").strip()\n",
    "    password = input(\"Enter your password: \").strip()\n",
    "    \n",
    "    if name == stored_name and password == saved_password:\n",
    "        print(\"Login successful\")\n",
    "        break\n",
    "    else:\n",
    "        attempts += 1\n",
    "        remaining = max_attempts - attempts\n",
    "        print(f\"Incorrect credentials. Attempts left: {remaining}\")\n",
    "\n",
    "        if remaining == 0:\n",
    "            print(\"Too many failed attempts. Please try again later.\")\n"
   ]
  },
  {
   "cell_type": "code",
   "execution_count": null,
   "id": "800d597a-86b4-432b-9f0d-602e56fcdec2",
   "metadata": {},
   "outputs": [],
   "source": [
    "# 13.Ask for a username. If it is \"admin\", then ask for a password. If both are correct, print \"Welcome, admin!\"\n",
    "# 12. Ask for a password and username. Allow login only if both match the correct values.\n",
    "username=\"admin\"\n",
    "Password=\"admin123\"\n",
    "username=(input(\"Enter your username\"))\n",
    "password=(input(\"Enter your password\"))\n",
    "if name==username and password == Password:\n",
    "    print(\"Login successful\")\n",
    "else: \n",
    "    print(\"Try again\")"
   ]
  },
  {
   "cell_type": "code",
   "execution_count": 39,
   "id": "17d635f5-518e-46fb-88a2-e107aa0bf130",
   "metadata": {},
   "outputs": [
    {
     "name": "stdin",
     "output_type": "stream",
     "text": [
      "Enter a number1 13\n",
      "Enter a number2 17\n"
     ]
    },
    {
     "name": "stdout",
     "output_type": "stream",
     "text": [
      "None is even\n"
     ]
    }
   ],
   "source": [
    "# 14. Ask a user to enter two numbers. If both numbers are even, print \"Both are even\"; if one is even, print \"One is even\"; otherwise print \"None are even\".\n",
    "number1=int(input(\"Enter a number1\"))\n",
    "number2=int(input(\"Enter a number2\"))\n",
    "if number1 % 2 ==0 and number2 % 2 ==0:\n",
    "    print(\"Both are even numbers\")\n",
    "elif number1 % 2 ==0 or number2 % 2 ==0:\n",
    "    print(\"one number is even\")\n",
    "else:\n",
    "    print(\"None is even\")"
   ]
  },
  {
   "cell_type": "code",
   "execution_count": 40,
   "id": "0ce02b24-1df8-4b1f-8ce9-e11e03c57932",
   "metadata": {},
   "outputs": [
    {
     "name": "stdin",
     "output_type": "stream",
     "text": [
      "Enter a math 12\n",
      "Enter a english 33\n",
      "Enter a science 22\n"
     ]
    },
    {
     "name": "stdout",
     "output_type": "stream",
     "text": [
      "fail\n"
     ]
    }
   ],
   "source": [
    "# 15. Ask the user for marks in three subjects. If the average is above 50, print \"Passed\"; otherwise, print \"Failed\".\n",
    "math=int(input(\"Enter a math\"))\n",
    "Eng=int(input(\"Enter a english\"))\n",
    "Sci=int(input(\"Enter a science\"))\n",
    "Average = (math+Eng+Sci)/3\n",
    "if Average>50:\n",
    "    print(\"passed\")\n",
    "else:\n",
    "    print(\"fail\")"
   ]
  },
  {
   "cell_type": "code",
   "execution_count": null,
   "id": "6439a058-6433-4064-a58f-2eeb3138ad25",
   "metadata": {},
   "outputs": [],
   "source": [
    "# 16. Rock, Paper, Scissors Game (2 players)\n",
    "# Ask both players to enter their choice\n",
    "# Decide who wins based on rules(research the rules)\n",
    "\n",
    "player1 = input(\"Player 1, enter your choice (rock, paper, or scissors): \").lower().strip()\n",
    "player2 = input(\"Player 2, enter your choice (rock, paper, or scissors): \").lower().strip()\n",
    "\n",
    "# Check for valid input\n",
    "valid_choices = [\"rock\", \"paper\", \"scissors\"]\n",
    "\n",
    "if player1 not in valid_choices or player2 not in valid_choices:\n",
    "    print(\"Invalid input. Please choose from rock, paper, or scissors.\")\n",
    "else:\n",
    "    # Determine winner\n",
    "    if player1 == player2:\n",
    "        print(\"It's a tie!\")\n",
    "    elif (\n",
    "        (player1 == \"rock\" and player2 == \"scissors\") or\n",
    "        (player1 == \"scissors\" and player2 == \"paper\") or\n",
    "        (player1 == \"paper\" and player2 == \"rock\")\n",
    "    ):\n",
    "        print(\"Player 1 wins!\")\n",
    "    else:\n",
    "        print(\"Player 2 wins!\")\n"
   ]
  },
  {
   "cell_type": "code",
   "execution_count": 41,
   "id": "25c23375-d5fc-4cff-aae4-43dcf6076461",
   "metadata": {},
   "outputs": [
    {
     "name": "stdin",
     "output_type": "stream",
     "text": [
      "Enter a number:  7\n"
     ]
    },
    {
     "name": "stdout",
     "output_type": "stream",
     "text": [
      "7 is a prime number.\n"
     ]
    }
   ],
   "source": [
    "# 17. Ask the user for a number and check if it's a prime number (Hint: A prime number has only two factors)\n",
    "number = int(input(\"Enter a number: \"))\n",
    "\n",
    "if number <= 1:\n",
    "    print(f\"{number} is not a prime number.\")\n",
    "else:\n",
    "    is_prime = True\n",
    "    for i in range(2, int(number**0.5) + 1):\n",
    "        if number % i == 0:\n",
    "            is_prime = False\n",
    "            break\n",
    "\n",
    "    if is_prime:\n",
    "        print(f\"{number} is a prime number.\")\n",
    "    else:\n",
    "        print(f\"{number} is not a prime number.\")\n"
   ]
  },
  {
   "cell_type": "code",
   "execution_count": 42,
   "id": "c7b16d61-eab5-47ae-9301-ba7f55f97ba7",
   "metadata": {},
   "outputs": [
    {
     "name": "stdin",
     "output_type": "stream",
     "text": [
      "Enter a number:  56\n"
     ]
    },
    {
     "name": "stdout",
     "output_type": "stream",
     "text": [
      "56 is not a perfect square.\n"
     ]
    }
   ],
   "source": [
    "# 18. Ask the user to enter a number and check if it’s a perfect square.\n",
    "number = int(input(\"Enter a number: \"))\n",
    "\n",
    "if number < 0:\n",
    "    print(\"Negative numbers can't be perfect squares.\")\n",
    "else:\n",
    "    square_root = number ** 0.5\n",
    "    if square_root == int(square_root):\n",
    "        print(f\"{number} is a perfect square.\")\n",
    "    else:\n",
    "        print(f\"{number} is not a perfect square.\")\n"
   ]
  },
  {
   "cell_type": "code",
   "execution_count": null,
   "id": "9b87c2cd-55a5-4734-ac7b-312e248be6ef",
   "metadata": {},
   "outputs": [],
   "source": []
  }
 ],
 "metadata": {
  "kernelspec": {
   "display_name": "Python [conda env:base] *",
   "language": "python",
   "name": "conda-base-py"
  },
  "language_info": {
   "codemirror_mode": {
    "name": "ipython",
    "version": 3
   },
   "file_extension": ".py",
   "mimetype": "text/x-python",
   "name": "python",
   "nbconvert_exporter": "python",
   "pygments_lexer": "ipython3",
   "version": "3.10.9"
  }
 },
 "nbformat": 4,
 "nbformat_minor": 5
}
