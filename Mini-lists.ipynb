{
 "cells": [
  {
   "cell_type": "code",
   "execution_count": 1,
   "id": "afeeed59-dc7d-4c3b-bae8-c608702583e3",
   "metadata": {},
   "outputs": [],
   "source": [
    "# 1. Create a list of your 8 foods and store it in a variable called foods.\n",
    "# pizza cake banana kales pizza chicken beef\n",
    "foods=[\"Cake\",\"Pizza\",\"Kales\",\"Chicken\",\"Mushroom\",\"Pineapple\",\"apple\",\"eggs\"]"
   ]
  },
  {
   "cell_type": "code",
   "execution_count": 2,
   "id": "99dc3ac5-da15-4898-9512-c2fe3f9f271e",
   "metadata": {},
   "outputs": [
    {
     "name": "stdout",
     "output_type": "stream",
     "text": [
      "Cake\n",
      "eggs\n"
     ]
    }
   ],
   "source": [
    "# 1.1. Print the first and last item in the foods list.\n",
    "print(foods[0])\n",
    "print(foods[-1])"
   ]
  },
  {
   "cell_type": "code",
   "execution_count": 3,
   "id": "d0397985-bbc5-44a8-8598-d85a80b01687",
   "metadata": {},
   "outputs": [
    {
     "data": {
      "text/plain": [
       "['Cake',\n",
       " 'Pizza',\n",
       " 'Banana',\n",
       " 'Chicken',\n",
       " 'Mushroom',\n",
       " 'Pineapple',\n",
       " 'apple',\n",
       " 'eggs']"
      ]
     },
     "execution_count": 3,
     "metadata": {},
     "output_type": "execute_result"
    }
   ],
   "source": [
    "# 1.2. Replace the third item in the list with another food.\n",
    "foods[2]=\"Banana\"\n",
    "foods"
   ]
  },
  {
   "cell_type": "code",
   "execution_count": 4,
   "id": "4794318d-827d-4a4c-ba5a-9e8ecb078e1b",
   "metadata": {},
   "outputs": [
    {
     "data": {
      "text/plain": [
       "['Cake',\n",
       " 'Pizza',\n",
       " 'Banana',\n",
       " 'Chicken',\n",
       " 'Mushroom',\n",
       " 'Pineapple',\n",
       " 'apple',\n",
       " 'eggs',\n",
       " 'beef']"
      ]
     },
     "execution_count": 4,
     "metadata": {},
     "output_type": "execute_result"
    }
   ],
   "source": [
    "# 1.3. Add a new food to the end of the list using .append().\n",
    "foods.append(\"beef\")\n",
    "foods"
   ]
  },
  {
   "cell_type": "code",
   "execution_count": 5,
   "id": "53bbba42-1d27-4f7b-9db7-61f2335ec42b",
   "metadata": {},
   "outputs": [
    {
     "data": {
      "text/plain": [
       "['Pizza',\n",
       " 'Banana',\n",
       " 'Chicken',\n",
       " 'Mushroom',\n",
       " 'Pineapple',\n",
       " 'apple',\n",
       " 'eggs',\n",
       " 'beef']"
      ]
     },
     "execution_count": 5,
     "metadata": {},
     "output_type": "execute_result"
    }
   ],
   "source": [
    "# 1.4. Remove one food from the list using .remove().\n",
    "foods.remove(\"Cake\")\n",
    "foods"
   ]
  },
  {
   "cell_type": "code",
   "execution_count": 6,
   "id": "0bc216e8-fb4f-43a8-a931-2d2a8378aca4",
   "metadata": {},
   "outputs": [
    {
     "name": "stdout",
     "output_type": "stream",
     "text": [
      "Pizza\n",
      "Banana\n",
      "Chicken\n",
      "Mushroom\n",
      "Pineapple\n",
      "apple\n",
      "eggs\n",
      "beef\n"
     ]
    }
   ],
   "source": [
    "# 1.5. Use a for loop to print each item in the list on a new line.\n",
    "for food in foods:\n",
    "    print(food)"
   ]
  },
  {
   "cell_type": "code",
   "execution_count": 15,
   "id": "2f6d0378-4a0e-4934-b312-db02911e6b6e",
   "metadata": {},
   "outputs": [
    {
     "data": {
      "text/plain": [
       "['Pizza',\n",
       " 'Banana',\n",
       " 'Chicken',\n",
       " 'Mushroom',\n",
       " 'Pineapple',\n",
       " 'apple',\n",
       " 'eggs',\n",
       " 'beef',\n",
       " 'Pizza',\n",
       " 'Onion',\n",
       " 'Onion',\n",
       " 'Pizza',\n",
       " 'Beans']"
      ]
     },
     "execution_count": 15,
     "metadata": {},
     "output_type": "execute_result"
    }
   ],
   "source": [
    "foods.append(\"Beans\")\n",
    "foods"
   ]
  },
  {
   "cell_type": "code",
   "execution_count": 18,
   "id": "0d187ba2-1c54-47a6-ad7a-ccfcec3c1055",
   "metadata": {},
   "outputs": [],
   "source": [
    "# 1.6. Use a loop to print only the foods that start with the letter \"a\".\n",
    "for food in foods:\n",
    "    if food == \"a\":\n",
    "        print(food)"
   ]
  },
  {
   "cell_type": "code",
   "execution_count": 19,
   "id": "2a69be21-6d6c-467c-a4d4-331fae66a85c",
   "metadata": {},
   "outputs": [
    {
     "name": "stdout",
     "output_type": "stream",
     "text": [
      "Pizza appears 3 times\n"
     ]
    }
   ],
   "source": [
    "# 1.7. Count how many times \"pizza\" appears in the list.\n",
    "count=0\n",
    "for food in foods:\n",
    "    if food == \"Pizza\":\n",
    "        count+=1\n",
    "print(\"Pizza appears\", count, \"times\")"
   ]
  },
  {
   "cell_type": "code",
   "execution_count": 20,
   "id": "f3da683f-163b-4ad6-9741-6b694d49f3e3",
   "metadata": {},
   "outputs": [
    {
     "name": "stdout",
     "output_type": "stream",
     "text": [
      "eggs appears 1\n",
      "Banana appears 1\n",
      "Beans appears 1\n",
      "Mushroom appears 1\n",
      "apple appears 1\n",
      "Pineapple appears 1\n",
      "Onion appears 2\n",
      "Chicken appears 1\n",
      "Pizza appears 3\n",
      "beef appears 1\n"
     ]
    }
   ],
   "source": [
    "for food in set(foods):\n",
    "    print(food,\"appears\",foods.count(food))"
   ]
  },
  {
   "cell_type": "code",
   "execution_count": 21,
   "id": "4d4ba594-6eef-48ca-a1a8-461343e841f8",
   "metadata": {},
   "outputs": [
    {
     "data": {
      "text/plain": [
       "['Banana', 'Chicken', 'Mushroom']"
      ]
     },
     "execution_count": 21,
     "metadata": {},
     "output_type": "execute_result"
    }
   ],
   "source": [
    "# 1.8. Print the second to fourth items using slicing.\n",
    "# Remember that slicing is getting a range of values using the square brackets and index\n",
    "foods[1:4]"
   ]
  },
  {
   "cell_type": "code",
   "execution_count": 22,
   "id": "c8f9673f-5eed-4978-8edf-3c5d502c3e7c",
   "metadata": {},
   "outputs": [
    {
     "data": {
      "text/plain": [
       "['Beans',\n",
       " 'Pizza',\n",
       " 'Onion',\n",
       " 'Onion',\n",
       " 'Pizza',\n",
       " 'beef',\n",
       " 'eggs',\n",
       " 'apple',\n",
       " 'Pineapple',\n",
       " 'Mushroom',\n",
       " 'Chicken',\n",
       " 'Banana',\n",
       " 'Pizza']"
      ]
     },
     "execution_count": 22,
     "metadata": {},
     "output_type": "execute_result"
    }
   ],
   "source": [
    "# 1.9. Print the list in reverse using slicing.\n",
    "foods[::-1]"
   ]
  },
  {
   "cell_type": "code",
   "execution_count": 23,
   "id": "38f790ac-eb70-4a0d-b2a1-6fe58ebb1ceb",
   "metadata": {},
   "outputs": [
    {
     "data": {
      "text/plain": [
       "[5, 2, 9, 1, 7]"
      ]
     },
     "execution_count": 23,
     "metadata": {},
     "output_type": "execute_result"
    }
   ],
   "source": [
    "# 2. Create a list of numbers: 5 2 9 1 7\n",
    "numbers=[5,2,9,1,7]\n",
    "numbers"
   ]
  },
  {
   "cell_type": "code",
   "execution_count": 24,
   "id": "49112858-2921-4edb-b3ee-87807966ca01",
   "metadata": {},
   "outputs": [
    {
     "name": "stdout",
     "output_type": "stream",
     "text": [
      "Sum of numbers 24\n",
      "Maximum number 9\n",
      "Minimum number 1\n"
     ]
    }
   ],
   "source": [
    "# 2.1 Use the following functions:\n",
    "# sum() to calculate total\n",
    "# max() to find the highest\n",
    "# min() to find the smallest\n",
    "print(\"Sum of numbers\", sum(numbers))\n",
    "print(\"Maximum number\", max(numbers))\n",
    "print(\"Minimum number\", min(numbers))"
   ]
  },
  {
   "cell_type": "code",
   "execution_count": 25,
   "id": "5d737597-d5e5-47ef-9347-5968b9096817",
   "metadata": {},
   "outputs": [
    {
     "name": "stdout",
     "output_type": "stream",
     "text": [
      "[1, 2, 5, 7, 9]\n",
      "[9, 7, 5, 2, 1]\n"
     ]
    }
   ],
   "source": [
    "# 2.2. Sort the list in ascending and descending order using .sort() and .reverse().\n",
    "numbers.sort()\n",
    "print(numbers)\n",
    "numbers.reverse()\n",
    "print(numbers)"
   ]
  },
  {
   "cell_type": "code",
   "execution_count": 26,
   "id": "be0a25a2-c415-409c-bd50-681b668ad678",
   "metadata": {},
   "outputs": [
    {
     "data": {
      "text/plain": [
       "[9, 7, 10, 5, 2, 1]"
      ]
     },
     "execution_count": 26,
     "metadata": {},
     "output_type": "execute_result"
    }
   ],
   "source": [
    "# 2.3. Use .insert() to add the number 10 at index 2.\n",
    "numbers.insert(2,10)\n",
    "numbers"
   ]
  },
  {
   "cell_type": "code",
   "execution_count": 26,
   "id": "226d1f17-52d0-4e88-a57d-dae06cb775b9",
   "metadata": {},
   "outputs": [
    {
     "name": "stdout",
     "output_type": "stream",
     "text": [
      "Alice 85\n",
      "Bob 78\n",
      "Charlie 92\n"
     ]
    }
   ],
   "source": [
    "# 3. Create the nested list of students below and their scores:\n",
    "# then print each student's name and score using a loop.\n",
    "students = [[\"Alice\", 85], [\"Bob\", 78], [\"Charlie\", 92]]\n",
    "for student in students:\n",
    "    name=student[0]\n",
    "    score=student[1]\n",
    "    print(name,score)"
   ]
  },
  {
   "cell_type": "code",
   "execution_count": 28,
   "id": "a5d23639-9eee-4907-b6dc-572a2d36177a",
   "metadata": {},
   "outputs": [
    {
     "name": "stdout",
     "output_type": "stream",
     "text": [
      "[85, 78, 92]\n",
      "Highest score: 92\n"
     ]
    }
   ],
   "source": [
    "# 3.1. Find the student with the highest score.\n",
    "# Extract the scores\n",
    "scores = [student[1] for student in students]\n",
    "print(scores)\n",
    "\n",
    "# Find the maximum score\n",
    "maximum = max(scores)\n",
    "print(\"Highest score:\", maximum)\n",
    "    "
   ]
  },
  {
   "cell_type": "code",
   "execution_count": 31,
   "id": "8ac139d5-fb73-433e-be6c-66ec9734c83b",
   "metadata": {},
   "outputs": [
    {
     "name": "stdin",
     "output_type": "stream",
     "text": [
      "Enter 5 numbers:  4\n",
      "Enter 5 numbers:  6\n",
      "Enter 5 numbers:  78\n",
      "Enter 5 numbers:  43\n",
      "Enter 5 numbers:  2\n"
     ]
    },
    {
     "data": {
      "text/plain": [
       "[4, 6, 78, 43, 2]"
      ]
     },
     "execution_count": 31,
     "metadata": {},
     "output_type": "execute_result"
    }
   ],
   "source": [
    "# 4. Write a function that asks the user to enter 5 numbers and stores them in a list.\n",
    "numbers=[]\n",
    "attempt=0\n",
    "while attempt < 5:\n",
    "    attempt+=1\n",
    "    number=int(input(\"Enter 5 numbers: \"))\n",
    "    numbers.append(number)\n",
    "numbers"
   ]
  },
  {
   "cell_type": "code",
   "execution_count": 39,
   "id": "87f7cd84-9e40-43c3-bec6-5b65a7695334",
   "metadata": {},
   "outputs": [
    {
     "name": "stdout",
     "output_type": "stream",
     "text": [
      "[43]\n"
     ]
    }
   ],
   "source": [
    "# 4.1. Write a function that removes all even numbers from the list provided by the user.\n",
    "def remove_even_numbers(numbers):\n",
    "    for number in numbers[:]:\n",
    "        if number %2 ==0:\n",
    "            numbers.remove(number)\n",
    "    return numbers\n",
    "print(remove_even_numbers(numbers))"
   ]
  },
  {
   "cell_type": "code",
   "execution_count": 22,
   "id": "b7dfad1c-b60a-450b-a56b-c4a43c50dfdb",
   "metadata": {},
   "outputs": [
    {
     "data": {
      "text/plain": [
       "[1, 2, 3, 4, 5, 6]"
      ]
     },
     "execution_count": 22,
     "metadata": {},
     "output_type": "execute_result"
    }
   ],
   "source": [
    "# 5. Merge two lists:\n",
    "list1 = [1, 2, 3]\n",
    "list2 = [4, 5, 6]\n",
    "list=list1+list2\n",
    "list"
   ]
  },
  {
   "cell_type": "code",
   "execution_count": 23,
   "id": "dd94be4f-dadb-4134-a7d7-d15b4c20657c",
   "metadata": {},
   "outputs": [
    {
     "name": "stdin",
     "output_type": "stream",
     "text": [
      "Enter student's names:  Mary\n",
      "Enter student's names:  James\n",
      "Enter student's names:  John\n",
      "Enter student's names:  Meshack\n",
      "Enter student's names:  Abby\n",
      "Enter student's names:  stop\n"
     ]
    },
    {
     "name": "stdout",
     "output_type": "stream",
     "text": [
      "['James', 'John', 'Meshack', 'Abby', 'stop']\n"
     ]
    }
   ],
   "source": [
    "# 6. Ask the user to input student names until they type \"stop\". Store all names in a list and print it at the end.\n",
    "students_list=[]\n",
    "name=(input(\"Enter student's names: \"))\n",
    "while name != \"stop\":\n",
    "    name=(input(\"Enter student's names: \"))\n",
    "    students_list.append(name)\n",
    "print(students_list)"
   ]
  },
  {
   "cell_type": "code",
   "execution_count": 24,
   "id": "cede72a7-6309-474f-a110-9c3a1bd9ea94",
   "metadata": {},
   "outputs": [
    {
     "name": "stdout",
     "output_type": "stream",
     "text": [
      "Meshack\n"
     ]
    }
   ],
   "source": [
    "# 6.1. From the list of names, print only those that are longer than 5 characters.\n",
    "\n",
    "for student_name in students_list:\n",
    "    if len(student_name) > 5:\n",
    "        print(student_name)"
   ]
  },
  {
   "cell_type": "code",
   "execution_count": null,
   "id": "4d152d66-2cea-4ae3-b216-8a5e829bfd3e",
   "metadata": {},
   "outputs": [],
   "source": []
  }
 ],
 "metadata": {
  "kernelspec": {
   "display_name": "Python [conda env:base] *",
   "language": "python",
   "name": "conda-base-py"
  },
  "language_info": {
   "codemirror_mode": {
    "name": "ipython",
    "version": 3
   },
   "file_extension": ".py",
   "mimetype": "text/x-python",
   "name": "python",
   "nbconvert_exporter": "python",
   "pygments_lexer": "ipython3",
   "version": "3.10.9"
  }
 },
 "nbformat": 4,
 "nbformat_minor": 5
}
