{
 "cells": [
  {
   "cell_type": "code",
   "execution_count": 3,
   "id": "fadb41fd-49ce-4cd7-b15c-8538d0d6e758",
   "metadata": {
    "jp-MarkdownHeadingCollapsed": true
   },
   "outputs": [
    {
     "name": "stdout",
     "output_type": "stream",
     "text": [
      "1\n",
      "2\n",
      "3\n",
      "4\n",
      "5\n",
      "6\n",
      "7\n",
      "8\n",
      "9\n",
      "10\n"
     ]
    }
   ],
   "source": [
    "# 1. Print numbers from 1 to 10\n",
    "# Output:\n",
    "# 1\n",
    "# 2\n",
    "# ...\n",
    "# 10\n",
    "for  numbers in range(1,11):\n",
    "    print(numbers)"
   ]
  },
  {
   "cell_type": "code",
   "execution_count": 12,
   "id": "f9399dde-a7a3-4918-baf3-ff7b35eded7f",
   "metadata": {
    "jp-MarkdownHeadingCollapsed": true
   },
   "outputs": [
    {
     "name": "stdout",
     "output_type": "stream",
     "text": [
      "2\n",
      "4\n",
      "6\n",
      "8\n",
      "10\n",
      "12\n",
      "14\n",
      "16\n",
      "18\n",
      "20\n",
      "1\n",
      "4\n",
      "9\n",
      "16\n",
      "25\n"
     ]
    }
   ],
   "source": [
    "# 2. Print even numbers between 1 and 20\n",
    "# Output:\n",
    "# 2, 4, 6, ..., 20\n",
    "# 3. Print the square of numbers from 1 to 5\n",
    "# Output:\n",
    "# 1 4 9 16 25\n",
    "for  numbers in range(1,21):\n",
    "    if numbers % 2 ==0:\n",
    "        print(numbers)\n",
    "for number in range(1,6):\n",
    "    square=number**2\n",
    "    print( square)"
   ]
  },
  {
   "cell_type": "code",
   "execution_count": 13,
   "id": "d5ee7226-239e-45fe-86a9-a9f37a7dded1",
   "metadata": {
    "jp-MarkdownHeadingCollapsed": true
   },
   "outputs": [
    {
     "name": "stdout",
     "output_type": "stream",
     "text": [
      "p\n",
      "y\n",
      "t\n",
      "h\n",
      "o\n",
      "n\n"
     ]
    }
   ],
   "source": [
    "# 4. Print each character in the word \"Python\"\n",
    "# Output:\n",
    "# P\n",
    "# y\n",
    "# t\n",
    "# h\n",
    "# o\n",
    "# n\n",
    "word=\"python\"\n",
    "for character in word:\n",
    "    print(character)"
   ]
  },
  {
   "cell_type": "code",
   "execution_count": 14,
   "id": "cecef65b-7f15-44a8-a92d-cd9dcb036ae7",
   "metadata": {
    "jp-MarkdownHeadingCollapsed": true
   },
   "outputs": [
    {
     "name": "stdout",
     "output_type": "stream",
     "text": [
      "Alice\n",
      "Bob\n",
      "Charlie\n"
     ]
    }
   ],
   "source": [
    "# 5. Loop through this list and print names:\n",
    "names = [\"Alice\", \"Bob\", \"Charlie\"]\n",
    "for name in names:\n",
    "    print(name)"
   ]
  },
  {
   "cell_type": "code",
   "execution_count": 1,
   "id": "2a5f2161-dcbd-4440-a262-0866f39a1a98",
   "metadata": {
    "jp-MarkdownHeadingCollapsed": true
   },
   "outputs": [
    {
     "name": "stdout",
     "output_type": "stream",
     "text": [
      "5\n",
      "4\n",
      "3\n",
      "2\n",
      "1\n"
     ]
    }
   ],
   "source": [
    "# 6. Print numbers from 5 to 1\n",
    "# Output:\n",
    "# 5\n",
    "# 4\n",
    "# 3\n",
    "# 2\n",
    "# 1\n",
    "for numbers in range(5, 0, -1):\n",
    "    print(numbers)\n"
   ]
  },
  {
   "cell_type": "code",
   "execution_count": 22,
   "id": "a0e44b26-12b4-4975-9402-642473541d0a",
   "metadata": {
    "jp-MarkdownHeadingCollapsed": true
   },
   "outputs": [
    {
     "name": "stdin",
     "output_type": "stream",
     "text": [
      "Enter password mary\n",
      "Enter password mary\n",
      "Enter password secret\n"
     ]
    }
   ],
   "source": [
    "# 7. Keep asking the user to enter a password until they type \"secret\"\n",
    "# Output:\n",
    "# Try again... until correct\n",
    "password=input(\"Enter password\")\n",
    "while password !=\"secret\":\n",
    "    password=input(\"Enter password\")\n"
   ]
  },
  {
   "cell_type": "code",
   "execution_count": 31,
   "id": "cb82d589-6bb5-4cb8-9e03-cb875dd26aaa",
   "metadata": {
    "jp-MarkdownHeadingCollapsed": true
   },
   "outputs": [
    {
     "name": "stdin",
     "output_type": "stream",
     "text": [
      "Enter number 5\n",
      "Enter number 3\n",
      "Enter number 0\n"
     ]
    },
    {
     "name": "stdout",
     "output_type": "stream",
     "text": [
      "Total:  8\n"
     ]
    }
   ],
   "source": [
    "# 8. Ask the user to enter numbers until they enter 0. Then print the sum.\n",
    "# Input:\n",
    "# 5\n",
    "# 3\n",
    "# 0\n",
    "# Output:\n",
    "# Total: 8\n",
    "Total=0\n",
    "number=int(input(\"Enter number\"))\n",
    "while number !=0:\n",
    "    Total += number\n",
    "    number=int(input(\"Enter number\"))\n",
    "    \n",
    "\n",
    "print(\"Total: \",Total)\n",
    "    "
   ]
  },
  {
   "cell_type": "code",
   "execution_count": 32,
   "id": "cf65e3cb-bbbf-4fe2-83ab-4b39059c09e7",
   "metadata": {
    "jp-MarkdownHeadingCollapsed": true
   },
   "outputs": [
    {
     "name": "stdout",
     "output_type": "stream",
     "text": [
      "3\n",
      "6\n",
      "9\n",
      "12\n",
      "15\n",
      "18\n"
     ]
    }
   ],
   "source": [
    "# 9. Print all numbers from 1 to 20 that are divisible by 3\n",
    "# Output:\n",
    "# 3 6 9 12 15 18\n",
    "for number in range(1,21):\n",
    "    if number %3 ==0:\n",
    "        print(number)"
   ]
  },
  {
   "cell_type": "code",
   "execution_count": 33,
   "id": "2d6e59ea-9f9d-4f46-aa30-16e564ce52f2",
   "metadata": {
    "jp-MarkdownHeadingCollapsed": true
   },
   "outputs": [
    {
     "name": "stdout",
     "output_type": "stream",
     "text": [
      "7\n",
      "13\n",
      "19\n"
     ]
    }
   ],
   "source": [
    "# 10. From this list, print only the odd numbers:\n",
    "numbers = [4, 7, 10, 13, 16, 19]\n",
    "for number in numbers:\n",
    "    if number %2 ==1:\n",
    "        print(number)"
   ]
  },
  {
   "cell_type": "code",
   "execution_count": 15,
   "id": "88d0a54e-de16-4c70-9600-c1e0747353dc",
   "metadata": {
    "jp-MarkdownHeadingCollapsed": true
   },
   "outputs": [
    {
     "name": "stdout",
     "output_type": "stream",
     "text": [
      "3\n"
     ]
    }
   ],
   "source": [
    "# 11. Count how many times \"apple\" appears in the list:\n",
    "fruits = [\"apple\", \"banana\", \"apple\", \"cherry\", \"apple\"]\n",
    "count=0\n",
    "for fruit in fruits:\n",
    "    if fruit  == \"apple\":\n",
    "        count +=1\n",
    "print(count)\n",
    "        "
   ]
  },
  {
   "cell_type": "code",
   "execution_count": 1,
   "id": "07708d8b-e871-49cd-b93e-da49b64b6b54",
   "metadata": {
    "jp-MarkdownHeadingCollapsed": true
   },
   "outputs": [
    {
     "name": "stdout",
     "output_type": "stream",
     "text": [
      "o\n",
      "l\n",
      "l\n",
      "e\n",
      "h\n"
     ]
    }
   ],
   "source": [
    "# 12. Use a loop to reverse a string:\n",
    "# Input:\n",
    "# \"hello\"\n",
    "# Output:\n",
    "# \"olleh\"\n",
    "greeting=\"hello\"\n",
    "for character in greeting[::-1]:\n",
    "    print(character)\n"
   ]
  },
  {
   "cell_type": "code",
   "execution_count": 11,
   "id": "b3cdb330-9a0e-43dd-b5d9-e6ae425cc036",
   "metadata": {},
   "outputs": [
    {
     "data": {
      "text/plain": [
       "[2, 4, 6, 8, 10]"
      ]
     },
     "execution_count": 11,
     "metadata": {},
     "output_type": "execute_result"
    }
   ],
   "source": [
    "nums=[1,2,3,4,5,6,7,8,9,10]\n",
    "nums[0:3]\n",
    "nums[::-1]\n",
    "nums[1::2]"
   ]
  },
  {
   "cell_type": "code",
   "execution_count": 42,
   "id": "04919b85-d347-4bf2-985b-bfba021b37ac",
   "metadata": {
    "jp-MarkdownHeadingCollapsed": true
   },
   "outputs": [
    {
     "name": "stdout",
     "output_type": "stream",
     "text": [
      "*\n",
      "**\n",
      "***\n",
      "****\n",
      "*****\n"
     ]
    }
   ],
   "source": [
    "# 13. Print a simple triangle of stars:\n",
    "# Output:\n",
    "# *\n",
    "# **\n",
    "# ***\n",
    "# ****\n",
    "# *****\n",
    "star=\"*\"\n",
    "for i in range(1,6):\n",
    "    print(i*star)"
   ]
  },
  {
   "cell_type": "code",
   "execution_count": 5,
   "id": "e943a0c7-96c3-42d9-a56c-8154e1fa57ac",
   "metadata": {
    "jp-MarkdownHeadingCollapsed": true
   },
   "outputs": [
    {
     "name": "stdin",
     "output_type": "stream",
     "text": [
      "Enter a number:  5\n"
     ]
    },
    {
     "name": "stdout",
     "output_type": "stream",
     "text": [
      "Factorial of 5 is 120\n"
     ]
    }
   ],
   "source": [
    "# 14. Use a loop to calculate the factorial of a number:\n",
    "# Input:\n",
    "# 5\n",
    "# Output:\n",
    "# 120\n",
    "number = int(input(\"Enter a number: \"))\n",
    "factorial = 1\n",
    "\n",
    "for i in range(1, number + 1):\n",
    "    factorial *= i\n",
    "\n",
    "print(\"Factorial of\", number, \"is\", factorial)\n"
   ]
  },
  {
   "cell_type": "code",
   "execution_count": 45,
   "id": "e1d18ff1-abcc-46ac-8c52-07228657ef49",
   "metadata": {
    "jp-MarkdownHeadingCollapsed": true
   },
   "outputs": [
    {
     "name": "stdout",
     "output_type": "stream",
     "text": [
      "3 Hit\n",
      "5 Miss\n",
      "6 Hit\n",
      "9 Hit\n",
      "10 Miss\n",
      "12 Hit\n",
      "15 Hit\n",
      "18 Hit\n",
      "20 Miss\n",
      "21 Hit\n",
      "24 Hit\n",
      "25 Miss\n",
      "27 Hit\n",
      "30 Hit\n",
      "33 Hit\n",
      "35 Miss\n",
      "36 Hit\n",
      "39 Hit\n",
      "40 Miss\n",
      "42 Hit\n",
      "45 Hit\n",
      "48 Hit\n",
      "50 Miss\n",
      "51 Hit\n",
      "54 Hit\n",
      "55 Miss\n",
      "57 Hit\n",
      "60 Hit\n",
      "63 Hit\n",
      "65 Miss\n",
      "66 Hit\n",
      "69 Hit\n",
      "70 Miss\n",
      "72 Hit\n",
      "75 Hit\n",
      "78 Hit\n",
      "80 Miss\n",
      "81 Hit\n",
      "84 Hit\n",
      "85 Miss\n",
      "87 Hit\n",
      "90 Hit\n",
      "93 Hit\n",
      "95 Miss\n",
      "96 Hit\n",
      "99 Hit\n"
     ]
    }
   ],
   "source": [
    "# 15. Loop from 1 to 100 and:\n",
    "# Print \"Hit\" if divisible by 3\n",
    "# Print \"Miss\" if divisible by 5\n",
    "# Print \"Jackpot\" if divisible by both\n",
    "for num in range(1,100):\n",
    "    if num % 3 ==0:\n",
    "        print(num, \"Hit\")\n",
    "    elif num % 5 ==0:\n",
    "        print(num,\"Miss\")\n",
    "    elif num % 3 ==0 and num % 5 ==0:\n",
    "        print(num,\"Jackpot\")\n",
    "    "
   ]
  },
  {
   "cell_type": "code",
   "execution_count": 47,
   "id": "9c87b775-4ba0-4730-9a88-d6f9cb46ec49",
   "metadata": {
    "jp-MarkdownHeadingCollapsed": true
   },
   "outputs": [
    {
     "name": "stdin",
     "output_type": "stream",
     "text": [
      "How many students are in class 10\n",
      "Enter student name Mary\n",
      "Enter student name Jane\n",
      "Enter student name Peter\n",
      "Enter student name Oscar\n",
      "Enter student name Jane\n",
      "Enter student name Patrick\n",
      "Enter student name Lenny\n",
      "Enter student name Tabitha\n",
      "Enter student name Essy\n",
      "Enter student name Mysha\n"
     ]
    },
    {
     "name": "stdout",
     "output_type": "stream",
     "text": [
      "['Mary', 'Jane', 'Peter', 'Oscar', 'Jane', 'Patrick', 'Lenny', 'Tabitha', 'Essy', 'Mysha']\n"
     ]
    }
   ],
   "source": [
    "# 16. Ask the user how many students are in a class. Then loop to enter each student’s name and save them to a list. Finally, print the list of students.\n",
    "\n",
    "class_list=[]\n",
    "numbers_of_students=int(input(\"How many students are in class\"))\n",
    "for name in range(numbers_of_students):\n",
    "    name=input(\"Enter student name\")\n",
    "    class_list.append(name)\n",
    "print(class_list)"
   ]
  },
  {
   "cell_type": "code",
   "execution_count": null,
   "id": "3866510c-82f0-4a99-8b41-caf51e945b87",
   "metadata": {},
   "outputs": [],
   "source": []
  }
 ],
 "metadata": {
  "kernelspec": {
   "display_name": "Python [conda env:base] *",
   "language": "python",
   "name": "conda-base-py"
  },
  "language_info": {
   "codemirror_mode": {
    "name": "ipython",
    "version": 3
   },
   "file_extension": ".py",
   "mimetype": "text/x-python",
   "name": "python",
   "nbconvert_exporter": "python",
   "pygments_lexer": "ipython3",
   "version": "3.10.9"
  }
 },
 "nbformat": 4,
 "nbformat_minor": 5
}
